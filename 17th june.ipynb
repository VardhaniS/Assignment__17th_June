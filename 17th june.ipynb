{
 "cells": [
  {
   "cell_type": "markdown",
   "id": "63e44dde",
   "metadata": {},
   "source": [
    "1. What is the role of try and exception block?"
   ]
  },
  {
   "cell_type": "raw",
   "id": "2214f75f",
   "metadata": {},
   "source": [
    "The code we have written may have error. If the code we have error , the error can go to except and the error message will be displayed here"
   ]
  },
  {
   "cell_type": "markdown",
   "id": "d1a8d145",
   "metadata": {},
   "source": [
    "\n",
    "2. What is the syntax for a basic try-except block?"
   ]
  },
  {
   "cell_type": "raw",
   "id": "f45ba7fa",
   "metadata": {},
   "source": [
    "try:\n",
    "    <code>\n",
    "except:\n",
    "    <statements>"
   ]
  },
  {
   "cell_type": "markdown",
   "id": "a9343f00",
   "metadata": {},
   "source": [
    "\n",
    "3. What happens if an exception occurs inside a try block and there is no matching except block?"
   ]
  },
  {
   "cell_type": "raw",
   "id": "ad79a5b9",
   "metadata": {},
   "source": [
    "If exception occurs inside a try block and no matching except block is not present it still shows or throws the error or inbuilt exception ."
   ]
  },
  {
   "cell_type": "markdown",
   "id": "5a81e22d",
   "metadata": {},
   "source": [
    "\n",
    "4. What is the difference between using a bare except block and specifying a specific exception type?"
   ]
  },
  {
   "cell_type": "raw",
   "id": "3da16d9f",
   "metadata": {},
   "source": [
    "bare except can handle any exception where as specific exception can handle only the mentioned exception"
   ]
  },
  {
   "cell_type": "markdown",
   "id": "75f5fd8d",
   "metadata": {},
   "source": [
    "\n",
    "5. Can you have nested try-except blocks in Python? If yes, then give an example."
   ]
  },
  {
   "cell_type": "markdown",
   "id": "27f0d96b",
   "metadata": {},
   "source": [
    "Yes."
   ]
  },
  {
   "cell_type": "code",
   "execution_count": 12,
   "id": "e3fa81fa",
   "metadata": {},
   "outputs": [
    {
     "name": "stdout",
     "output_type": "stream",
     "text": [
      "Enter a number4\n",
      "Enter a number\n",
      "enter the proper value\n"
     ]
    }
   ],
   "source": [
    "try:\n",
    "    x=int(input('Enter a number'))\n",
    "    y=int(input('Enter a number'))\n",
    "\n",
    "    print(x//y)\n",
    "    \n",
    "except ZeroDivisionError:\n",
    "    print('enter the value other than 0')\n",
    "except ValueError:\n",
    "    print('enter the proper value')"
   ]
  },
  {
   "cell_type": "markdown",
   "id": "61d6d17e",
   "metadata": {},
   "source": [
    "\n",
    "6. Can we use multiple exception blocks, if yes then give an example.\n"
   ]
  },
  {
   "cell_type": "raw",
   "id": "c69beb1a",
   "metadata": {},
   "source": [
    "Yes we can have multiple exception blocks."
   ]
  },
  {
   "cell_type": "code",
   "execution_count": 1,
   "id": "469b7e0e",
   "metadata": {},
   "outputs": [
    {
     "name": "stdout",
     "output_type": "stream",
     "text": [
      "Enter a number4\n",
      "Enter a number0\n",
      "enter the value other than 0\n"
     ]
    }
   ],
   "source": [
    "try:\n",
    "    x=int(input('Enter a number'))\n",
    "    y=int(input('Enter a number'))\n",
    "\n",
    "    print(x/y)\n",
    "    \n",
    "except ZeroDivisionError:\n",
    "    print('enter the value other than 0')\n",
    "except ValueError:\n",
    "    print('enter the proper value')"
   ]
  },
  {
   "cell_type": "markdown",
   "id": "46f4b610",
   "metadata": {},
   "source": [
    "7. Write the reason due to which following errors are raised:\n",
    "a. EOFError\n",
    "b. FloatingPointError\n",
    "c. IndexError\n",
    "d. MemoryError\n",
    "e. OverflowError\n",
    "f. TabError\n",
    "g. ValueError\n"
   ]
  },
  {
   "cell_type": "raw",
   "id": "61276fc9",
   "metadata": {},
   "source": [
    "a. EOFError - when the code is not completed\n",
    "b. FloatingPointError - when floating point operation fails\n",
    "c. IndexError - when proper index value is not entered\n",
    "d. MemoryError - when the execution runs out of memory\n",
    "e. OverflowError - when the value is too long to be expressed\n",
    "f. TabError - when indetation contains tabs and spaces\n",
    "g. ValueError - When proper  value is not entered"
   ]
  },
  {
   "cell_type": "markdown",
   "id": "3f752b12",
   "metadata": {},
   "source": [
    "8. Write code for the following given scenario and add try-exception block to it.\n",
    "a. Program to divide two numbers\n",
    "b. Program to convert a string to an integer\n",
    "c. Program to access an element in a list\n",
    "d. Program to handle a specific exception\n",
    "e. Program to handle any exception"
   ]
  },
  {
   "cell_type": "code",
   "execution_count": 9,
   "id": "09f54b2d",
   "metadata": {},
   "outputs": [
    {
     "name": "stdout",
     "output_type": "stream",
     "text": [
      "Enter a number4\n",
      "Enter a number0\n",
      "enter the value other than 0\n"
     ]
    }
   ],
   "source": [
    "#a. Program to divide two numbers\n",
    "try:\n",
    "    x=int(input('Enter a number'))\n",
    "    y=int(input('Enter a number'))\n",
    "\n",
    "    print(x/y)\n",
    "    \n",
    "except ZeroDivisionError:\n",
    "    print('enter the value other than 0')"
   ]
  },
  {
   "cell_type": "code",
   "execution_count": 5,
   "id": "79a27711",
   "metadata": {},
   "outputs": [
    {
     "name": "stdout",
     "output_type": "stream",
     "text": [
      "enter a number50.0\n",
      "Enter Proper value\n"
     ]
    }
   ],
   "source": [
    "#b. Program to convert a string to an integer\n",
    "try:\n",
    "    n=int(input('enter a number'))\n",
    "    p=str(n)\n",
    "    print('String is',p)\n",
    "    print(type(p))\n",
    "except ValueError:\n",
    "    print('Enter Proper value')"
   ]
  },
  {
   "cell_type": "code",
   "execution_count": 10,
   "id": "297225e5",
   "metadata": {},
   "outputs": [
    {
     "name": "stdout",
     "output_type": "stream",
     "text": [
      "Index out of range\n"
     ]
    }
   ],
   "source": [
    "#c. Program to access an element in a list\n",
    "try:\n",
    "    a=[1,2,3,4,5]\n",
    "    print(a[30])\n",
    "except IndexError:\n",
    "    print('Index out of range')"
   ]
  },
  {
   "cell_type": "code",
   "execution_count": 11,
   "id": "2b94facf",
   "metadata": {},
   "outputs": [
    {
     "name": "stdout",
     "output_type": "stream",
     "text": [
      "Enter the existing key value\n"
     ]
    }
   ],
   "source": [
    "#d. Program to handle a specific exception\n",
    "try:\n",
    "    \n",
    "    dict1={'name':'john','age':22}\n",
    "    print(dict1['city'])\n",
    "\n",
    "except KeyError:\n",
    "    print('Enter the existing key value')"
   ]
  },
  {
   "cell_type": "code",
   "execution_count": null,
   "id": "f3ea24ef",
   "metadata": {},
   "outputs": [],
   "source": [
    "#e. Program to handle any exception\n",
    "try:\n",
    "    print(x) #enter code which may have error\n",
    "except:\n",
    "    print('Enter the value of x') #it goes to except and enter the statments"
   ]
  },
  {
   "cell_type": "code",
   "execution_count": null,
   "id": "88917bd9",
   "metadata": {},
   "outputs": [],
   "source": []
  }
 ],
 "metadata": {
  "kernelspec": {
   "display_name": "Python 3 (ipykernel)",
   "language": "python",
   "name": "python3"
  },
  "language_info": {
   "codemirror_mode": {
    "name": "ipython",
    "version": 3
   },
   "file_extension": ".py",
   "mimetype": "text/x-python",
   "name": "python",
   "nbconvert_exporter": "python",
   "pygments_lexer": "ipython3",
   "version": "3.9.7"
  }
 },
 "nbformat": 4,
 "nbformat_minor": 5
}
